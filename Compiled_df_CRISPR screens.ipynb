{
 "cells": [
  {
   "cell_type": "markdown",
   "id": "e6740ea4-ff2b-4884-bed2-97cae4f72251",
   "metadata": {},
   "source": [
    "## Compiling CSVs from CRISPR screen data \n",
    "### Jacklyn Luu\n",
    "\n",
    "The goal of this notebook is to find all the CRISPR screen results csv files and add author + virus names as separate columns. The data used comes from a Google Drive folder that contains various experimental results including results from CRISPR screens. "
   ]
  },
  {
   "cell_type": "code",
   "execution_count": 1,
   "id": "530671af-4583-4d74-b9fb-ddd6ddda7510",
   "metadata": {},
   "outputs": [],
   "source": [
    "# Set up environment\n",
    "import pandas as pd\n",
    "import os\n",
    "from pathlib import Path   # Let's us traverse dir and subdir"
   ]
  },
  {
   "cell_type": "code",
   "execution_count": 12,
   "id": "d8a13e46-a077-494c-b6b4-7e1ec08af2cf",
   "metadata": {},
   "outputs": [
    {
     "data": {
      "text/plain": [
       "'/Users/jacklyn.luu/Desktop/DS-Infected Cell'"
      ]
     },
     "execution_count": 12,
     "metadata": {},
     "output_type": "execute_result"
    }
   ],
   "source": [
    "home_dir = '/Users/jacklyn.luu/Desktop/DS-Infected Cell'\n",
    "os.chdir(home_dir)\n",
    "os.getcwd()"
   ]
  },
  {
   "cell_type": "code",
   "execution_count": 15,
   "id": "0cc1a9d1-c289-4f6b-98c9-a30b8e318eea",
   "metadata": {},
   "outputs": [],
   "source": [
    "# Find all CRISPR screen csv files in the folder downloaded from GDrive\n",
    "papers_meta = pd.read_csv('CRISPR screen datasets meta.csv')\n",
    "data_dir = os.path.join(home_dir, 'Data from papers')\n",
    "\n",
    "for subdir, dirs, files in os.walk(data_dir):\n",
    "    for filename in files:        \n",
    "        filepath = subdir + os.sep + filename\n",
    "        if filepath.endswith(\".csv\") and (('CRISPR' in filepath) or ('screen' in filepath)):            \n",
    "            data = pd.read_csv(filepath)\n",
    "            \n",
    "            # Add the name of virus and author \n",
    "            virus_acr = Path(filepath).parts[6]  # Virus name embedded in filepath\n",
    "            data['Virus'] = virus_acr\n",
    "            data['Author'] = papers_meta.loc[papers_meta['Virus Acronym'] == virus_acr, 'Author'].item()\n",
    "            \n",
    "            #Over write file\n",
    "            data.to_csv(filepath, mode ='w+')"
   ]
  },
  {
   "cell_type": "code",
   "execution_count": 5,
   "id": "74637d5d-95e6-4e3d-a353-b973317f955c",
   "metadata": {},
   "outputs": [
    {
     "name": "stdout",
     "output_type": "stream",
     "text": [
      "       Unnamed: 0     Gene       p_value   z_score           fdr     Sig  \\\n",
      "0               0    ANPEP  1.570000e-53  9.056129  3.030000e-49     Sig   \n",
      "1               1  TMEM41B  8.720000e-21  5.611329  1.690000e-16     Sig   \n",
      "2               2     RTCB  3.010000e-15  4.794417  5.820000e-11     Sig   \n",
      "3               3    NRIP1  3.030000e-14  4.629608  5.870000e-10     Sig   \n",
      "4               4   GNPTAB  1.420000e-13  4.481975  2.760000e-09     Sig   \n",
      "...           ...      ...           ...       ...           ...     ...   \n",
      "19359       19359   ZYG11A  2.370285e-01 -0.641426  1.000000e+00  NotSig   \n",
      "19360       19360   ZYG11B  5.901085e-01 -0.726182  1.000000e+00  NotSig   \n",
      "19361       19361      ZYX  8.904381e-01 -0.072607  1.000000e+00  NotSig   \n",
      "19362       19362    ZZEF1  3.116640e-01  0.284200  1.000000e+00  NotSig   \n",
      "19363       19363     ZZZ3  7.512255e-01  0.311387  1.000000e+00  NotSig   \n",
      "\n",
      "       PlottingIndex  AlphaIndex                   Sample  \\\n",
      "0               4636         769  Brunello_Huh75_33C_229E   \n",
      "1              16422       17114  Brunello_Huh75_33C_229E   \n",
      "2               5106       14421  Brunello_Huh75_33C_229E   \n",
      "3               6359       11175  Brunello_Huh75_33C_229E   \n",
      "4               8667        6529  Brunello_Huh75_33C_229E   \n",
      "...              ...         ...                      ...   \n",
      "19359          16462       19360  Brunello_Huh75_33C_229E   \n",
      "19360           8822       19361  Brunello_Huh75_33C_229E   \n",
      "19361          16617       19362  Brunello_Huh75_33C_229E   \n",
      "19362          18399       19363  Brunello_Huh75_33C_229E   \n",
      "19363            845       19364  Brunello_Huh75_33C_229E   \n",
      "\n",
      "                       Virus     Author  \n",
      "0      HCoV-229E - Schneider  Schneider  \n",
      "1      HCoV-229E - Schneider  Schneider  \n",
      "2      HCoV-229E - Schneider  Schneider  \n",
      "3      HCoV-229E - Schneider  Schneider  \n",
      "4      HCoV-229E - Schneider  Schneider  \n",
      "...                      ...        ...  \n",
      "19359  HCoV-229E - Schneider  Schneider  \n",
      "19360  HCoV-229E - Schneider  Schneider  \n",
      "19361  HCoV-229E - Schneider  Schneider  \n",
      "19362  HCoV-229E - Schneider  Schneider  \n",
      "19363  HCoV-229E - Schneider  Schneider  \n",
      "\n",
      "[19364 rows x 11 columns]\n"
     ]
    }
   ],
   "source": [
    "# Test if it worked\n",
    "test_dir = os.path.join(data_dir, 'HCoV-229E - Schneider')\n",
    "os.chdir(test_dir)\n",
    "test_df = pd.read_csv('HCoV-229E - CRISPR screen.csv')\n",
    "print(test_df)"
   ]
  },
  {
   "cell_type": "code",
   "execution_count": null,
   "id": "c81c31b3-746d-42c4-b685-74026232f3c5",
   "metadata": {},
   "outputs": [],
   "source": []
  }
 ],
 "metadata": {
  "kernelspec": {
   "display_name": "Python 3",
   "language": "python",
   "name": "python3"
  },
  "language_info": {
   "codemirror_mode": {
    "name": "ipython",
    "version": 3
   },
   "file_extension": ".py",
   "mimetype": "text/x-python",
   "name": "python",
   "nbconvert_exporter": "python",
   "pygments_lexer": "ipython3",
   "version": "3.9.5"
  }
 },
 "nbformat": 4,
 "nbformat_minor": 5
}
