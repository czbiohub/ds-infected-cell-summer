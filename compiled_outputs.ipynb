{
 "cells": [
  {
   "cell_type": "code",
   "execution_count": 48,
   "id": "80b9137a",
   "metadata": {},
   "outputs": [
    {
     "name": "stdout",
     "output_type": "stream",
     "text": [
      "      id\\tnum\\tneg|score\\tneg|p-value\\tneg|fdr\\tneg|rank\\tneg|goodsgrna\\tneg|lfc\\tpos|score\\tpos|p-value\\tpos|fdr\\tpos|rank\\tpos|goodsgrna\\tpos|lfc  \\\n",
      "0      USP17L11\\t6\\t1.3869e-10\\t2.2806e-07\\t0.00165\\t...                                                                                              \n",
      "1      GAGE1\\t6\\t6.7356e-09\\t2.2806e-07\\t0.00165\\t2\\t...                                                                                              \n",
      "2      CT47A1\\t5\\t7.7306e-08\\t2.2806e-07\\t0.00165\\t3\\...                                                                                              \n",
      "3      XAGE1A\\t6\\t8.1291e-08\\t4.5612e-07\\t0.002475\\t4...                                                                                              \n",
      "4      PCDHA1\\t6\\t2.9331e-07\\t1.5964e-06\\t0.006931\\t5...                                                                                              \n",
      "...                                                  ...                                                                                              \n",
      "21702  GPR89A\\t6\\t1.0\\t1.0\\t1.0\\t21703\\t0\\t3.1559\\t2....                                                                                              \n",
      "21703  NPC1\\t6\\t1.0\\t1.0\\t1.0\\t21704\\t0\\t1.932\\t2.504...                                                                                              \n",
      "21704  M6PR\\t6\\t1.0\\t1.0\\t1.0\\t21705\\t0\\t0.99202\\t1.8...                                                                                              \n",
      "21705  SPNS1\\t6\\t1.0\\t1.0\\t1.0\\t21706\\t0\\t3.1251\\t4.5...                                                                                              \n",
      "21706  ANPEP\\t6\\t1.0\\t1.0\\t1.0\\t21707\\t0\\t8.0175\\t9.6...                                                                                              \n",
      "\n",
      "      Virus   Author  \n",
      "0      DENV  Marceau  \n",
      "1      DENV  Marceau  \n",
      "2      DENV  Marceau  \n",
      "3      DENV  Marceau  \n",
      "4      DENV  Marceau  \n",
      "...     ...      ...  \n",
      "21702  229E     Wang  \n",
      "21703  229E     Wang  \n",
      "21704  229E     Wang  \n",
      "21705  229E     Wang  \n",
      "21706  229E     Wang  \n",
      "\n",
      "[130242 rows x 3 columns]\n"
     ]
    }
   ],
   "source": [
    "import pandas as pd\n",
    "import os\n",
    "from os.path import isfile, join\n",
    "from pathlib import Path\n",
    "\n",
    "main_dir = '/Users/elianna.kondylis/output_combined/rra'\n",
    "os.chdir(main_dir)\n",
    "\n",
    "onlyfiles = [f for f in os.listdir('.') if isfile(join(\".\", f))]\n",
    "\n",
    "dict1 = {'Kulsuptrakul':['HAV'], 'Marceau': ['DENV', 'HCV'], 'Wang': ['SARS-CoV2', '229E', 'OC43']}\n",
    "\n",
    "df_list = list()\n",
    "author_list = list()\n",
    "virus_list = list()\n",
    "\n",
    "for file in onlyfiles:\n",
    "        if 'gene_summary' in file and file.endswith('.txt'):\n",
    "            for author in dict1:\n",
    "                for virus in dict1[author]:\n",
    "                    if virus in file:\n",
    "                        if virus == ' 229E' or virus == 'OC43':\n",
    "                            virus = 'HCoV-' + virus\n",
    "                        df1 = pd.read_csv(file)\n",
    "                        df1['Virus'] = virus\n",
    "                        df1['Author'] = author\n",
    "                        df_list.append(df1)\n",
    "                        \n",
    "final_table = pd.concat(df_list)\n",
    "print(final_table)\n",
    "\n",
    "final_table.to_csv('/Users/elianna.kondylis/Desktop/out3.csv')"
   ]
  },
  {
   "cell_type": "code",
   "execution_count": null,
   "id": "5b23eb3e",
   "metadata": {},
   "outputs": [],
   "source": []
  },
  {
   "cell_type": "code",
   "execution_count": null,
   "id": "be12bfc7-e69e-465e-996e-a4b5544b949e",
   "metadata": {},
   "outputs": [],
   "source": []
  }
 ],
 "metadata": {
  "kernelspec": {
   "display_name": "Python 3",
   "language": "python",
   "name": "python3"
  },
  "language_info": {
   "codemirror_mode": {
    "name": "ipython",
    "version": 3
   },
   "file_extension": ".py",
   "mimetype": "text/x-python",
   "name": "python",
   "nbconvert_exporter": "python",
   "pygments_lexer": "ipython3",
   "version": "3.9.5"
  }
 },
 "nbformat": 4,
 "nbformat_minor": 5
}
