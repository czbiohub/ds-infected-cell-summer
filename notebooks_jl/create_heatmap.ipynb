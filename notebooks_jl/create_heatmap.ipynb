{
 "cells": [
  {
   "cell_type": "markdown",
   "id": "3a14e6d5-76aa-49b4-a147-e7c7578d6c96",
   "metadata": {},
   "source": [
    "## Create Heatmaps\n",
    "### Goals\n",
    "1. Create big dataframe of all enrichment scores of all the data I have so far\n",
    "2. Play around with plotly heatmaps\n",
    "3. Create a function to make heatmap for any genes"
   ]
  },
  {
   "cell_type": "markdown",
   "id": "841f28e1-62d9-42d2-94a8-171d121b801c",
   "metadata": {},
   "source": [
    "### Part 1: Create big df and save on server"
   ]
  },
  {
   "cell_type": "markdown",
   "id": "ae9a1c6a-b226-480a-b6f8-1e54dfaf1b05",
   "metadata": {},
   "source": [
    "Traverse `~/output _072321` to extract gene summary tables for each virus"
   ]
  },
  {
   "cell_type": "code",
   "execution_count": 2,
   "id": "696e1129-fa93-4782-8b16-ad6da08b7dc6",
   "metadata": {},
   "outputs": [],
   "source": [
    "import os\n",
    "import pandas as pd\n",
    "import numpy as np"
   ]
  },
  {
   "cell_type": "code",
   "execution_count": 4,
   "id": "befca640-eeae-49f0-b746-d341bbf5b09a",
   "metadata": {},
   "outputs": [],
   "source": [
    "os.chdir('/mnt/ibm_lg/jacklyn.luu/nextflow_output/output_072321/DENV/rra')\n",
    "DENV = pd.read_csv('DENV.gene_summary.txt', delimiter = \"\\t\")\n",
    "\n",
    "os.chdir('/mnt/ibm_lg/jacklyn.luu/nextflow_output/output_072321/EV/rra')\n",
    "EV = pd.read_csv('EV.gene_summary.txt', delimiter = \"\\t\")\n",
    "\n",
    "os.chdir('/mnt/ibm_lg/jacklyn.luu/nextflow_output/output_072321/HAV/rra')\n",
    "HAV = pd.read_csv('HAV.gene_summary.txt', delimiter = \"\\t\")\n",
    "\n",
    "os.chdir('/mnt/ibm_lg/jacklyn.luu/nextflow_output/output_072321/HCV/rra')\n",
    "HCV = pd.read_csv('HCV.gene_summary.txt', delimiter = \"\\t\")\n",
    "\n",
    "os.chdir('/mnt/ibm_lg/jacklyn.luu/nextflow_output/output_072321/RV/rra')\n",
    "RV = pd.read_csv('RV.gene_summary.txt', delimiter = \"\\t\")\n",
    "\n",
    "os.chdir('/mnt/ibm_lg/jacklyn.luu/nextflow_output/output_072321/Wang_OC43/rra')\n",
    "wang_OC43 = pd.read_csv('Wang_OC43.gene_summary.txt', delimiter = \"\\t\")\n",
    "\n",
    "os.chdir('/mnt/ibm_lg/jacklyn.luu/nextflow_output/output_072321/Wang_229E/rra')\n",
    "wang_229E = pd.read_csv('Wang_229E.gene_summary.txt', delimiter = \"\\t\")\n",
    "\n",
    "os.chdir('/mnt/ibm_lg/jacklyn.luu/nextflow_output/output_072321/Wang_SARS-CoV2/rra')\n",
    "wang_SARS_COV2 = pd.read_csv('Wang_SARS-CoV2.gene_summary.txt', delimiter = \"\\t\")\n"
   ]
  },
  {
   "cell_type": "code",
   "execution_count": 5,
   "id": "9e4a2dcc-8668-454c-bead-bcc4b3c84b2a",
   "metadata": {},
   "outputs": [],
   "source": [
    "os.chdir('/mnt/ibm_lg/jacklyn.luu/nextflow_output/schneider_output/rra')\n",
    "NL_63 = pd.read_csv('NL63.gene_summary.txt', delimiter = \"\\t\")\n",
    "sch_OC43 = pd.read_csv('OC43.gene_summary.txt', delimiter = \"\\t\")\n",
    "sch_229E = pd.read_csv('229E.gene_summary.txt', delimiter = \"\\t\")\n",
    "sch_SARS_COV2_33C = pd.read_csv('SARS-CoV2_33C.gene_summary.txt', delimiter = \"\\t\")\n",
    "sch_SARS_COV2_37C = pd.read_csv('SARS-CoV2_37C.gene_summary.txt', delimiter = \"\\t\")\n",
    "\n",
    "crispr_screen_ES_dict = {'DENV': DENV,\n",
    "                    'EV': EV,\n",
    "                    'HAV': HAV,\n",
    "                    'HCV': HCV,\n",
    "                    'RV': RV,\n",
    "                    'HCoV 229E (Wang)': wang_229E, \n",
    "                    'HCoV OC43 (Wang)': wang_OC43,\n",
    "                    'SARS_COV2 (Wang)': wang_SARS_COV2,\n",
    "                    'HCoV NL_63': NL_63,\n",
    "                    'HCoV 229E (Schneider)': sch_229E, \n",
    "                    'HCoV OC43 (Schneider)': sch_OC43,\n",
    "                    'SARS_COV2_33C (Schneider)': sch_SARS_COV2_33C, \n",
    "                    'SARS_COV2_37C (Schneider)': sch_SARS_COV2_37C}\n"
   ]
  },
  {
   "cell_type": "markdown",
   "id": "d07aecdf-9557-4d7d-8308-a84058c2a873",
   "metadata": {},
   "source": [
    "Create dataframe of enrichment scores. Save to server"
   ]
  },
  {
   "cell_type": "code",
   "execution_count": 6,
   "id": "b8c706f8-daa3-4208-b225-4860f13d094e",
   "metadata": {},
   "outputs": [],
   "source": [
    "from functools import reduce\n",
    "def create_df_ES_RRA(data_list):\n",
    "    \"\"\"\n",
    "    PURPOSE\n",
    "    * This function will take in a dictionary of df's of gene_summary.txt files and extract the \n",
    "    pos|score values of the common genes. \n",
    "    \n",
    "    INPUT\n",
    "    * data_list: dictionary of df's of gene_summary.txt files that we want to compare, with key=name of data\n",
    "    \n",
    "    OUTPUT\n",
    "    * result: dataframe of common genes, pos|scores of each gene_summary file\n",
    "    \"\"\"\n",
    "    # Get common genes between the gene_summaries (in case they use different libraries)\n",
    "    genes_lists = [data_list[key]['id'] for key in data_list.keys()]\n",
    "\n",
    "    common_genes = reduce(np.intersect1d, genes_lists)\n",
    "    \n",
    "    result = pd.DataFrame(common_genes, columns = ['id'])\n",
    "    \n",
    "    # Go through each df and extract the pos_score and add to result df\n",
    "    for key in data_list.keys():\n",
    "        data_with_common_genes = data_list[key][data_list[key]['id'].isin(common_genes)]\n",
    "        data_with_common_genes['-log(RRA score)'] = -np.log(data_with_common_genes['pos|score'])\n",
    "        result = pd.merge(result,\n",
    "                          data_with_common_genes[['id','-log(RRA score)']],\n",
    "                          on = 'id')\n",
    "        result.rename(columns={'-log(RRA score)': key}, inplace=True)\n",
    "    return result"
   ]
  },
  {
   "cell_type": "code",
   "execution_count": 7,
   "id": "98a9b3a9-a38f-46bb-a3e6-203cc57fdc6d",
   "metadata": {},
   "outputs": [
    {
     "name": "stderr",
     "output_type": "stream",
     "text": [
      "/home/jacklyn.luu/miniconda3/lib/python3.9/site-packages/pandas/core/frame.py:3607: SettingWithCopyWarning: \n",
      "A value is trying to be set on a copy of a slice from a DataFrame.\n",
      "Try using .loc[row_indexer,col_indexer] = value instead\n",
      "\n",
      "See the caveats in the documentation: https://pandas.pydata.org/pandas-docs/stable/user_guide/indexing.html#returning-a-view-versus-a-copy\n",
      "  self._set_item(key, value)\n"
     ]
    }
   ],
   "source": [
    "crispr_screen_ES = create_df_ES_RRA(crispr_screen_ES_dict)\n",
    "#os.chdir('/mnt/ibm_lg/jacklyn.luu')\n",
    "#crispr_screen_ES.to_csv('crispr_screens_ES_table.csv', sep=' ')"
   ]
  },
  {
   "cell_type": "markdown",
   "id": "acafe1a6-234b-4774-aa5c-dd080989f20d",
   "metadata": {},
   "source": [
    "### Part 2: Play around with heat map"
   ]
  },
  {
   "cell_type": "code",
   "execution_count": 8,
   "id": "f79a7df4-4a4f-49e9-b03c-81d3e369e3ad",
   "metadata": {},
   "outputs": [
    {
     "data": {
      "text/html": [
       "<div>\n",
       "<style scoped>\n",
       "    .dataframe tbody tr th:only-of-type {\n",
       "        vertical-align: middle;\n",
       "    }\n",
       "\n",
       "    .dataframe tbody tr th {\n",
       "        vertical-align: top;\n",
       "    }\n",
       "\n",
       "    .dataframe thead th {\n",
       "        text-align: right;\n",
       "    }\n",
       "</style>\n",
       "<table border=\"1\" class=\"dataframe\">\n",
       "  <thead>\n",
       "    <tr style=\"text-align: right;\">\n",
       "      <th></th>\n",
       "      <th>id</th>\n",
       "      <th>DENV</th>\n",
       "      <th>EV</th>\n",
       "      <th>HAV</th>\n",
       "      <th>HCV</th>\n",
       "      <th>RV</th>\n",
       "      <th>HCoV 229E (Wang)</th>\n",
       "      <th>HCoV OC43 (Wang)</th>\n",
       "      <th>SARS_COV2 (Wang)</th>\n",
       "      <th>HCoV NL_63</th>\n",
       "      <th>HCoV 229E (Schneider)</th>\n",
       "      <th>HCoV OC43 (Schneider)</th>\n",
       "      <th>SARS_COV2_33C (Schneider)</th>\n",
       "      <th>SARS_COV2_37C (Schneider)</th>\n",
       "    </tr>\n",
       "  </thead>\n",
       "  <tbody>\n",
       "    <tr>\n",
       "      <th>0</th>\n",
       "      <td>A1BG</td>\n",
       "      <td>0.425826</td>\n",
       "      <td>0.495215</td>\n",
       "      <td>0.534094</td>\n",
       "      <td>2.440354</td>\n",
       "      <td>0.311975</td>\n",
       "      <td>3.276982</td>\n",
       "      <td>2.019664</td>\n",
       "      <td>0.641105</td>\n",
       "      <td>0.163849</td>\n",
       "      <td>0.224883</td>\n",
       "      <td>0.054773</td>\n",
       "      <td>1.504853</td>\n",
       "      <td>1.439315</td>\n",
       "    </tr>\n",
       "    <tr>\n",
       "      <th>1</th>\n",
       "      <td>A1CF</td>\n",
       "      <td>2.374307</td>\n",
       "      <td>1.964257</td>\n",
       "      <td>17.796562</td>\n",
       "      <td>1.142972</td>\n",
       "      <td>0.659751</td>\n",
       "      <td>0.806495</td>\n",
       "      <td>0.229652</td>\n",
       "      <td>1.273752</td>\n",
       "      <td>0.819845</td>\n",
       "      <td>0.406571</td>\n",
       "      <td>1.423415</td>\n",
       "      <td>0.820526</td>\n",
       "      <td>0.784934</td>\n",
       "    </tr>\n",
       "    <tr>\n",
       "      <th>2</th>\n",
       "      <td>A2M</td>\n",
       "      <td>0.961184</td>\n",
       "      <td>0.230080</td>\n",
       "      <td>0.943456</td>\n",
       "      <td>1.950661</td>\n",
       "      <td>0.327574</td>\n",
       "      <td>3.716374</td>\n",
       "      <td>1.273502</td>\n",
       "      <td>1.541639</td>\n",
       "      <td>0.153734</td>\n",
       "      <td>3.302393</td>\n",
       "      <td>0.161167</td>\n",
       "      <td>0.323821</td>\n",
       "      <td>0.685159</td>\n",
       "    </tr>\n",
       "    <tr>\n",
       "      <th>3</th>\n",
       "      <td>A2ML1</td>\n",
       "      <td>0.229401</td>\n",
       "      <td>0.147236</td>\n",
       "      <td>0.804503</td>\n",
       "      <td>0.190955</td>\n",
       "      <td>0.100240</td>\n",
       "      <td>2.129136</td>\n",
       "      <td>4.209082</td>\n",
       "      <td>5.836343</td>\n",
       "      <td>1.448085</td>\n",
       "      <td>4.345425</td>\n",
       "      <td>1.001222</td>\n",
       "      <td>2.292041</td>\n",
       "      <td>1.800841</td>\n",
       "    </tr>\n",
       "    <tr>\n",
       "      <th>4</th>\n",
       "      <td>A3GALT2</td>\n",
       "      <td>0.480151</td>\n",
       "      <td>0.840789</td>\n",
       "      <td>1.733472</td>\n",
       "      <td>1.463435</td>\n",
       "      <td>1.908585</td>\n",
       "      <td>0.086037</td>\n",
       "      <td>3.127619</td>\n",
       "      <td>1.828029</td>\n",
       "      <td>0.737392</td>\n",
       "      <td>2.588442</td>\n",
       "      <td>0.247193</td>\n",
       "      <td>0.541199</td>\n",
       "      <td>0.928363</td>\n",
       "    </tr>\n",
       "    <tr>\n",
       "      <th>...</th>\n",
       "      <td>...</td>\n",
       "      <td>...</td>\n",
       "      <td>...</td>\n",
       "      <td>...</td>\n",
       "      <td>...</td>\n",
       "      <td>...</td>\n",
       "      <td>...</td>\n",
       "      <td>...</td>\n",
       "      <td>...</td>\n",
       "      <td>...</td>\n",
       "      <td>...</td>\n",
       "      <td>...</td>\n",
       "      <td>...</td>\n",
       "      <td>...</td>\n",
       "    </tr>\n",
       "    <tr>\n",
       "      <th>18436</th>\n",
       "      <td>ZYG11A</td>\n",
       "      <td>1.835210</td>\n",
       "      <td>1.600082</td>\n",
       "      <td>1.267552</td>\n",
       "      <td>0.562663</td>\n",
       "      <td>2.207730</td>\n",
       "      <td>0.130769</td>\n",
       "      <td>0.296615</td>\n",
       "      <td>1.207512</td>\n",
       "      <td>4.173583</td>\n",
       "      <td>0.390439</td>\n",
       "      <td>2.256274</td>\n",
       "      <td>0.186161</td>\n",
       "      <td>0.144910</td>\n",
       "    </tr>\n",
       "    <tr>\n",
       "      <th>18437</th>\n",
       "      <td>ZYG11B</td>\n",
       "      <td>3.567760</td>\n",
       "      <td>2.666630</td>\n",
       "      <td>0.209339</td>\n",
       "      <td>1.195112</td>\n",
       "      <td>0.523371</td>\n",
       "      <td>1.267090</td>\n",
       "      <td>0.751582</td>\n",
       "      <td>1.700950</td>\n",
       "      <td>0.079704</td>\n",
       "      <td>0.140688</td>\n",
       "      <td>0.547334</td>\n",
       "      <td>2.054164</td>\n",
       "      <td>7.024919</td>\n",
       "    </tr>\n",
       "    <tr>\n",
       "      <th>18438</th>\n",
       "      <td>ZYX</td>\n",
       "      <td>0.145095</td>\n",
       "      <td>0.545538</td>\n",
       "      <td>0.099876</td>\n",
       "      <td>1.390624</td>\n",
       "      <td>0.475169</td>\n",
       "      <td>1.620094</td>\n",
       "      <td>0.868787</td>\n",
       "      <td>2.203645</td>\n",
       "      <td>2.143788</td>\n",
       "      <td>0.298056</td>\n",
       "      <td>0.315026</td>\n",
       "      <td>1.326366</td>\n",
       "      <td>2.212287</td>\n",
       "    </tr>\n",
       "    <tr>\n",
       "      <th>18439</th>\n",
       "      <td>ZZEF1</td>\n",
       "      <td>4.291967</td>\n",
       "      <td>0.476070</td>\n",
       "      <td>-0.000000</td>\n",
       "      <td>2.417682</td>\n",
       "      <td>2.842822</td>\n",
       "      <td>0.686052</td>\n",
       "      <td>1.536466</td>\n",
       "      <td>0.659248</td>\n",
       "      <td>1.321144</td>\n",
       "      <td>0.920023</td>\n",
       "      <td>3.575515</td>\n",
       "      <td>0.810895</td>\n",
       "      <td>2.636800</td>\n",
       "    </tr>\n",
       "    <tr>\n",
       "      <th>18440</th>\n",
       "      <td>ZZZ3</td>\n",
       "      <td>0.116096</td>\n",
       "      <td>0.944099</td>\n",
       "      <td>3.236607</td>\n",
       "      <td>1.316022</td>\n",
       "      <td>0.849918</td>\n",
       "      <td>0.961837</td>\n",
       "      <td>1.393843</td>\n",
       "      <td>0.223944</td>\n",
       "      <td>0.294680</td>\n",
       "      <td>0.900319</td>\n",
       "      <td>2.143788</td>\n",
       "      <td>3.001348</td>\n",
       "      <td>0.206938</td>\n",
       "    </tr>\n",
       "  </tbody>\n",
       "</table>\n",
       "<p>18441 rows × 14 columns</p>\n",
       "</div>"
      ],
      "text/plain": [
       "            id      DENV        EV        HAV       HCV        RV  \\\n",
       "0         A1BG  0.425826  0.495215   0.534094  2.440354  0.311975   \n",
       "1         A1CF  2.374307  1.964257  17.796562  1.142972  0.659751   \n",
       "2          A2M  0.961184  0.230080   0.943456  1.950661  0.327574   \n",
       "3        A2ML1  0.229401  0.147236   0.804503  0.190955  0.100240   \n",
       "4      A3GALT2  0.480151  0.840789   1.733472  1.463435  1.908585   \n",
       "...        ...       ...       ...        ...       ...       ...   \n",
       "18436   ZYG11A  1.835210  1.600082   1.267552  0.562663  2.207730   \n",
       "18437   ZYG11B  3.567760  2.666630   0.209339  1.195112  0.523371   \n",
       "18438      ZYX  0.145095  0.545538   0.099876  1.390624  0.475169   \n",
       "18439    ZZEF1  4.291967  0.476070  -0.000000  2.417682  2.842822   \n",
       "18440     ZZZ3  0.116096  0.944099   3.236607  1.316022  0.849918   \n",
       "\n",
       "       HCoV 229E (Wang)  HCoV OC43 (Wang)  SARS_COV2 (Wang)  HCoV NL_63  \\\n",
       "0              3.276982          2.019664          0.641105    0.163849   \n",
       "1              0.806495          0.229652          1.273752    0.819845   \n",
       "2              3.716374          1.273502          1.541639    0.153734   \n",
       "3              2.129136          4.209082          5.836343    1.448085   \n",
       "4              0.086037          3.127619          1.828029    0.737392   \n",
       "...                 ...               ...               ...         ...   \n",
       "18436          0.130769          0.296615          1.207512    4.173583   \n",
       "18437          1.267090          0.751582          1.700950    0.079704   \n",
       "18438          1.620094          0.868787          2.203645    2.143788   \n",
       "18439          0.686052          1.536466          0.659248    1.321144   \n",
       "18440          0.961837          1.393843          0.223944    0.294680   \n",
       "\n",
       "       HCoV 229E (Schneider)  HCoV OC43 (Schneider)  \\\n",
       "0                   0.224883               0.054773   \n",
       "1                   0.406571               1.423415   \n",
       "2                   3.302393               0.161167   \n",
       "3                   4.345425               1.001222   \n",
       "4                   2.588442               0.247193   \n",
       "...                      ...                    ...   \n",
       "18436               0.390439               2.256274   \n",
       "18437               0.140688               0.547334   \n",
       "18438               0.298056               0.315026   \n",
       "18439               0.920023               3.575515   \n",
       "18440               0.900319               2.143788   \n",
       "\n",
       "       SARS_COV2_33C (Schneider)  SARS_COV2_37C (Schneider)  \n",
       "0                       1.504853                   1.439315  \n",
       "1                       0.820526                   0.784934  \n",
       "2                       0.323821                   0.685159  \n",
       "3                       2.292041                   1.800841  \n",
       "4                       0.541199                   0.928363  \n",
       "...                          ...                        ...  \n",
       "18436                   0.186161                   0.144910  \n",
       "18437                   2.054164                   7.024919  \n",
       "18438                   1.326366                   2.212287  \n",
       "18439                   0.810895                   2.636800  \n",
       "18440                   3.001348                   0.206938  \n",
       "\n",
       "[18441 rows x 14 columns]"
      ]
     },
     "execution_count": 8,
     "metadata": {},
     "output_type": "execute_result"
    }
   ],
   "source": [
    "crispr_screen_ES"
   ]
  },
  {
   "cell_type": "code",
   "execution_count": 25,
   "id": "08bc86d5-1811-4bdb-9b73-690230bef824",
   "metadata": {},
   "outputs": [
    {
     "data": {
      "text/plain": [
       "Index(['id', 'DENV', 'EV', 'HAV', 'HCV', 'RV', 'HCoV 229E (Wang)',\n",
       "       'HCoV OC43 (Wang)', 'SARS_COV2 (Wang)', 'HCoV NL_63',\n",
       "       'HCoV 229E (Schneider)', 'HCoV OC43 (Schneider)',\n",
       "       'SARS_COV2_33C (Schneider)', 'SARS_COV2_37C (Schneider)'],\n",
       "      dtype='object')"
      ]
     },
     "execution_count": 25,
     "metadata": {},
     "output_type": "execute_result"
    }
   ],
   "source": [
    "crispr_screen_ES.columns"
   ]
  },
  {
   "cell_type": "code",
   "execution_count": 9,
   "id": "de0ab399-fe66-43fc-b09b-9b0e158f0f06",
   "metadata": {},
   "outputs": [
    {
     "data": {
      "text/html": [
       "<div>\n",
       "<style scoped>\n",
       "    .dataframe tbody tr th:only-of-type {\n",
       "        vertical-align: middle;\n",
       "    }\n",
       "\n",
       "    .dataframe tbody tr th {\n",
       "        vertical-align: top;\n",
       "    }\n",
       "\n",
       "    .dataframe thead th {\n",
       "        text-align: right;\n",
       "    }\n",
       "</style>\n",
       "<table border=\"1\" class=\"dataframe\">\n",
       "  <thead>\n",
       "    <tr style=\"text-align: right;\">\n",
       "      <th></th>\n",
       "      <th>HCoV NL_63</th>\n",
       "      <th>HCoV 229E (Schneider)</th>\n",
       "      <th>HCoV OC43 (Schneider)</th>\n",
       "      <th>SARS_COV2_33C (Schneider)</th>\n",
       "      <th>SARS_COV2_37C (Schneider)</th>\n",
       "    </tr>\n",
       "    <tr>\n",
       "      <th>id</th>\n",
       "      <th></th>\n",
       "      <th></th>\n",
       "      <th></th>\n",
       "      <th></th>\n",
       "      <th></th>\n",
       "    </tr>\n",
       "  </thead>\n",
       "  <tbody>\n",
       "    <tr>\n",
       "      <th>HMGCS1</th>\n",
       "      <td>6.105261</td>\n",
       "      <td>0.059580</td>\n",
       "      <td>12.454842</td>\n",
       "      <td>18.360150</td>\n",
       "      <td>8.117545</td>\n",
       "    </tr>\n",
       "    <tr>\n",
       "      <th>LDLR</th>\n",
       "      <td>0.910930</td>\n",
       "      <td>1.742627</td>\n",
       "      <td>2.825382</td>\n",
       "      <td>12.179528</td>\n",
       "      <td>11.808089</td>\n",
       "    </tr>\n",
       "    <tr>\n",
       "      <th>LIMA1</th>\n",
       "      <td>2.437031</td>\n",
       "      <td>0.101214</td>\n",
       "      <td>1.347420</td>\n",
       "      <td>0.428401</td>\n",
       "      <td>0.506551</td>\n",
       "    </tr>\n",
       "    <tr>\n",
       "      <th>MBTPS1</th>\n",
       "      <td>0.001731</td>\n",
       "      <td>6.151258</td>\n",
       "      <td>15.031050</td>\n",
       "      <td>16.284138</td>\n",
       "      <td>28.026467</td>\n",
       "    </tr>\n",
       "    <tr>\n",
       "      <th>MBTPS2</th>\n",
       "      <td>0.181186</td>\n",
       "      <td>3.226077</td>\n",
       "      <td>11.312191</td>\n",
       "      <td>12.415905</td>\n",
       "      <td>21.635017</td>\n",
       "    </tr>\n",
       "    <tr>\n",
       "      <th>SCAP</th>\n",
       "      <td>0.000200</td>\n",
       "      <td>5.679871</td>\n",
       "      <td>8.786577</td>\n",
       "      <td>10.931492</td>\n",
       "      <td>18.595010</td>\n",
       "    </tr>\n",
       "    <tr>\n",
       "      <th>SREBF1</th>\n",
       "      <td>0.489341</td>\n",
       "      <td>2.272832</td>\n",
       "      <td>0.320798</td>\n",
       "      <td>0.682049</td>\n",
       "      <td>1.342163</td>\n",
       "    </tr>\n",
       "    <tr>\n",
       "      <th>SREBF2</th>\n",
       "      <td>0.154387</td>\n",
       "      <td>0.180947</td>\n",
       "      <td>4.766161</td>\n",
       "      <td>7.616382</td>\n",
       "      <td>22.913952</td>\n",
       "    </tr>\n",
       "  </tbody>\n",
       "</table>\n",
       "</div>"
      ],
      "text/plain": [
       "        HCoV NL_63  HCoV 229E (Schneider)  HCoV OC43 (Schneider)  \\\n",
       "id                                                                 \n",
       "HMGCS1    6.105261               0.059580              12.454842   \n",
       "LDLR      0.910930               1.742627               2.825382   \n",
       "LIMA1     2.437031               0.101214               1.347420   \n",
       "MBTPS1    0.001731               6.151258              15.031050   \n",
       "MBTPS2    0.181186               3.226077              11.312191   \n",
       "SCAP      0.000200               5.679871               8.786577   \n",
       "SREBF1    0.489341               2.272832               0.320798   \n",
       "SREBF2    0.154387               0.180947               4.766161   \n",
       "\n",
       "        SARS_COV2_33C (Schneider)  SARS_COV2_37C (Schneider)  \n",
       "id                                                            \n",
       "HMGCS1                  18.360150                   8.117545  \n",
       "LDLR                    12.179528                  11.808089  \n",
       "LIMA1                    0.428401                   0.506551  \n",
       "MBTPS1                  16.284138                  28.026467  \n",
       "MBTPS2                  12.415905                  21.635017  \n",
       "SCAP                    10.931492                  18.595010  \n",
       "SREBF1                   0.682049                   1.342163  \n",
       "SREBF2                   7.616382                  22.913952  "
      ]
     },
     "execution_count": 9,
     "metadata": {},
     "output_type": "execute_result"
    }
   ],
   "source": [
    "# From Schneider paper, Fig 3a\n",
    "genes_list = ['MBTPS1', 'SREBF1', 'MBTPS2', 'SREBF2', 'HMGCS1', 'SCAP', 'LDLR', 'LIMA1']\n",
    "viruses_list = ['HCoV NL_63',\n",
    "       'HCoV 229E (Schneider)', 'HCoV OC43 (Schneider)',\n",
    "       'SARS_COV2_33C (Schneider)', 'SARS_COV2_37C (Schneider)']\n",
    "\n",
    "ES_df_from_genes_list = crispr_screen_ES[crispr_screen_ES['id'].isin(genes_list)].set_index('id')\n",
    "sch_df = ES_df_from_genes_list[viruses_list]\n",
    "sch_df"
   ]
  },
  {
   "cell_type": "code",
   "execution_count": 78,
   "id": "7a534a06-1929-41d3-8001-48daee412d93",
   "metadata": {},
   "outputs": [
    {
     "data": {
      "application/vnd.plotly.v1+json": {
       "config": {
        "plotlyServerURL": "https://plot.ly"
       },
       "data": [
        {
         "colorbar": {
          "title": {
           "text": "Enrichment Score"
          }
         },
         "type": "heatmap",
         "x": [
          "HCoV NL_63",
          "HCoV 229E (Schneider)",
          "HCoV OC43 (Schneider)",
          "SARS_COV2_33C (Schneider)",
          "SARS_COV2_37C (Schneider)"
         ],
         "y": [
          "HMGCS1",
          "LDLR",
          "LIMA1",
          "MBTPS1",
          "MBTPS2",
          "SCAP",
          "SREBF1",
          "SREBF2"
         ],
         "z": [
          [
           6.10526054158691,
           0.05958016744884402,
           12.454841744483357,
           18.36015024421233,
           8.11754496862964
          ],
          [
           0.910930125632059,
           1.7426265066778452,
           2.825382088541256,
           12.179528090308063,
           11.80808878563667
          ],
          [
           2.437031189546969,
           0.1012135705772959,
           1.347419861737835,
           0.4284011393912221,
           0.5065514377933852
          ],
          [
           0.0017314981781481424,
           6.15125778292143,
           15.031049998661675,
           16.284138428982654,
           28.026466588654465
          ],
          [
           0.18118620155370277,
           3.2260766889715855,
           11.312191135169147,
           12.41590518278471,
           21.635016888778534
          ],
          [
           0.0002000200026670447,
           5.679870654609888,
           8.786577035586642,
           10.931492274040284,
           18.595010321856776
          ],
          [
           0.48934140460232156,
           2.272832134844698,
           0.3207977261296576,
           0.6820489938939118,
           1.342162649759982
          ],
          [
           0.15438737450389992,
           0.1809465026144214,
           4.766160872080217,
           7.6163816463905425,
           22.913951837443047
          ]
         ]
        }
       ],
       "layout": {
        "autosize": true,
        "template": {
         "data": {
          "bar": [
           {
            "error_x": {
             "color": "#2a3f5f"
            },
            "error_y": {
             "color": "#2a3f5f"
            },
            "marker": {
             "line": {
              "color": "#E5ECF6",
              "width": 0.5
             },
             "pattern": {
              "fillmode": "overlay",
              "size": 10,
              "solidity": 0.2
             }
            },
            "type": "bar"
           }
          ],
          "barpolar": [
           {
            "marker": {
             "line": {
              "color": "#E5ECF6",
              "width": 0.5
             },
             "pattern": {
              "fillmode": "overlay",
              "size": 10,
              "solidity": 0.2
             }
            },
            "type": "barpolar"
           }
          ],
          "carpet": [
           {
            "aaxis": {
             "endlinecolor": "#2a3f5f",
             "gridcolor": "white",
             "linecolor": "white",
             "minorgridcolor": "white",
             "startlinecolor": "#2a3f5f"
            },
            "baxis": {
             "endlinecolor": "#2a3f5f",
             "gridcolor": "white",
             "linecolor": "white",
             "minorgridcolor": "white",
             "startlinecolor": "#2a3f5f"
            },
            "type": "carpet"
           }
          ],
          "choropleth": [
           {
            "colorbar": {
             "outlinewidth": 0,
             "ticks": ""
            },
            "type": "choropleth"
           }
          ],
          "contour": [
           {
            "colorbar": {
             "outlinewidth": 0,
             "ticks": ""
            },
            "colorscale": [
             [
              0,
              "#0d0887"
             ],
             [
              0.1111111111111111,
              "#46039f"
             ],
             [
              0.2222222222222222,
              "#7201a8"
             ],
             [
              0.3333333333333333,
              "#9c179e"
             ],
             [
              0.4444444444444444,
              "#bd3786"
             ],
             [
              0.5555555555555556,
              "#d8576b"
             ],
             [
              0.6666666666666666,
              "#ed7953"
             ],
             [
              0.7777777777777778,
              "#fb9f3a"
             ],
             [
              0.8888888888888888,
              "#fdca26"
             ],
             [
              1,
              "#f0f921"
             ]
            ],
            "type": "contour"
           }
          ],
          "contourcarpet": [
           {
            "colorbar": {
             "outlinewidth": 0,
             "ticks": ""
            },
            "type": "contourcarpet"
           }
          ],
          "heatmap": [
           {
            "colorbar": {
             "outlinewidth": 0,
             "ticks": ""
            },
            "colorscale": [
             [
              0,
              "#0d0887"
             ],
             [
              0.1111111111111111,
              "#46039f"
             ],
             [
              0.2222222222222222,
              "#7201a8"
             ],
             [
              0.3333333333333333,
              "#9c179e"
             ],
             [
              0.4444444444444444,
              "#bd3786"
             ],
             [
              0.5555555555555556,
              "#d8576b"
             ],
             [
              0.6666666666666666,
              "#ed7953"
             ],
             [
              0.7777777777777778,
              "#fb9f3a"
             ],
             [
              0.8888888888888888,
              "#fdca26"
             ],
             [
              1,
              "#f0f921"
             ]
            ],
            "type": "heatmap"
           }
          ],
          "heatmapgl": [
           {
            "colorbar": {
             "outlinewidth": 0,
             "ticks": ""
            },
            "colorscale": [
             [
              0,
              "#0d0887"
             ],
             [
              0.1111111111111111,
              "#46039f"
             ],
             [
              0.2222222222222222,
              "#7201a8"
             ],
             [
              0.3333333333333333,
              "#9c179e"
             ],
             [
              0.4444444444444444,
              "#bd3786"
             ],
             [
              0.5555555555555556,
              "#d8576b"
             ],
             [
              0.6666666666666666,
              "#ed7953"
             ],
             [
              0.7777777777777778,
              "#fb9f3a"
             ],
             [
              0.8888888888888888,
              "#fdca26"
             ],
             [
              1,
              "#f0f921"
             ]
            ],
            "type": "heatmapgl"
           }
          ],
          "histogram": [
           {
            "marker": {
             "pattern": {
              "fillmode": "overlay",
              "size": 10,
              "solidity": 0.2
             }
            },
            "type": "histogram"
           }
          ],
          "histogram2d": [
           {
            "colorbar": {
             "outlinewidth": 0,
             "ticks": ""
            },
            "colorscale": [
             [
              0,
              "#0d0887"
             ],
             [
              0.1111111111111111,
              "#46039f"
             ],
             [
              0.2222222222222222,
              "#7201a8"
             ],
             [
              0.3333333333333333,
              "#9c179e"
             ],
             [
              0.4444444444444444,
              "#bd3786"
             ],
             [
              0.5555555555555556,
              "#d8576b"
             ],
             [
              0.6666666666666666,
              "#ed7953"
             ],
             [
              0.7777777777777778,
              "#fb9f3a"
             ],
             [
              0.8888888888888888,
              "#fdca26"
             ],
             [
              1,
              "#f0f921"
             ]
            ],
            "type": "histogram2d"
           }
          ],
          "histogram2dcontour": [
           {
            "colorbar": {
             "outlinewidth": 0,
             "ticks": ""
            },
            "colorscale": [
             [
              0,
              "#0d0887"
             ],
             [
              0.1111111111111111,
              "#46039f"
             ],
             [
              0.2222222222222222,
              "#7201a8"
             ],
             [
              0.3333333333333333,
              "#9c179e"
             ],
             [
              0.4444444444444444,
              "#bd3786"
             ],
             [
              0.5555555555555556,
              "#d8576b"
             ],
             [
              0.6666666666666666,
              "#ed7953"
             ],
             [
              0.7777777777777778,
              "#fb9f3a"
             ],
             [
              0.8888888888888888,
              "#fdca26"
             ],
             [
              1,
              "#f0f921"
             ]
            ],
            "type": "histogram2dcontour"
           }
          ],
          "mesh3d": [
           {
            "colorbar": {
             "outlinewidth": 0,
             "ticks": ""
            },
            "type": "mesh3d"
           }
          ],
          "parcoords": [
           {
            "line": {
             "colorbar": {
              "outlinewidth": 0,
              "ticks": ""
             }
            },
            "type": "parcoords"
           }
          ],
          "pie": [
           {
            "automargin": true,
            "type": "pie"
           }
          ],
          "scatter": [
           {
            "marker": {
             "colorbar": {
              "outlinewidth": 0,
              "ticks": ""
             }
            },
            "type": "scatter"
           }
          ],
          "scatter3d": [
           {
            "line": {
             "colorbar": {
              "outlinewidth": 0,
              "ticks": ""
             }
            },
            "marker": {
             "colorbar": {
              "outlinewidth": 0,
              "ticks": ""
             }
            },
            "type": "scatter3d"
           }
          ],
          "scattercarpet": [
           {
            "marker": {
             "colorbar": {
              "outlinewidth": 0,
              "ticks": ""
             }
            },
            "type": "scattercarpet"
           }
          ],
          "scattergeo": [
           {
            "marker": {
             "colorbar": {
              "outlinewidth": 0,
              "ticks": ""
             }
            },
            "type": "scattergeo"
           }
          ],
          "scattergl": [
           {
            "marker": {
             "colorbar": {
              "outlinewidth": 0,
              "ticks": ""
             }
            },
            "type": "scattergl"
           }
          ],
          "scattermapbox": [
           {
            "marker": {
             "colorbar": {
              "outlinewidth": 0,
              "ticks": ""
             }
            },
            "type": "scattermapbox"
           }
          ],
          "scatterpolar": [
           {
            "marker": {
             "colorbar": {
              "outlinewidth": 0,
              "ticks": ""
             }
            },
            "type": "scatterpolar"
           }
          ],
          "scatterpolargl": [
           {
            "marker": {
             "colorbar": {
              "outlinewidth": 0,
              "ticks": ""
             }
            },
            "type": "scatterpolargl"
           }
          ],
          "scatterternary": [
           {
            "marker": {
             "colorbar": {
              "outlinewidth": 0,
              "ticks": ""
             }
            },
            "type": "scatterternary"
           }
          ],
          "surface": [
           {
            "colorbar": {
             "outlinewidth": 0,
             "ticks": ""
            },
            "colorscale": [
             [
              0,
              "#0d0887"
             ],
             [
              0.1111111111111111,
              "#46039f"
             ],
             [
              0.2222222222222222,
              "#7201a8"
             ],
             [
              0.3333333333333333,
              "#9c179e"
             ],
             [
              0.4444444444444444,
              "#bd3786"
             ],
             [
              0.5555555555555556,
              "#d8576b"
             ],
             [
              0.6666666666666666,
              "#ed7953"
             ],
             [
              0.7777777777777778,
              "#fb9f3a"
             ],
             [
              0.8888888888888888,
              "#fdca26"
             ],
             [
              1,
              "#f0f921"
             ]
            ],
            "type": "surface"
           }
          ],
          "table": [
           {
            "cells": {
             "fill": {
              "color": "#EBF0F8"
             },
             "line": {
              "color": "white"
             }
            },
            "header": {
             "fill": {
              "color": "#C8D4E3"
             },
             "line": {
              "color": "white"
             }
            },
            "type": "table"
           }
          ]
         },
         "layout": {
          "annotationdefaults": {
           "arrowcolor": "#2a3f5f",
           "arrowhead": 0,
           "arrowwidth": 1
          },
          "autotypenumbers": "strict",
          "coloraxis": {
           "colorbar": {
            "outlinewidth": 0,
            "ticks": ""
           }
          },
          "colorscale": {
           "diverging": [
            [
             0,
             "#8e0152"
            ],
            [
             0.1,
             "#c51b7d"
            ],
            [
             0.2,
             "#de77ae"
            ],
            [
             0.3,
             "#f1b6da"
            ],
            [
             0.4,
             "#fde0ef"
            ],
            [
             0.5,
             "#f7f7f7"
            ],
            [
             0.6,
             "#e6f5d0"
            ],
            [
             0.7,
             "#b8e186"
            ],
            [
             0.8,
             "#7fbc41"
            ],
            [
             0.9,
             "#4d9221"
            ],
            [
             1,
             "#276419"
            ]
           ],
           "sequential": [
            [
             0,
             "#0d0887"
            ],
            [
             0.1111111111111111,
             "#46039f"
            ],
            [
             0.2222222222222222,
             "#7201a8"
            ],
            [
             0.3333333333333333,
             "#9c179e"
            ],
            [
             0.4444444444444444,
             "#bd3786"
            ],
            [
             0.5555555555555556,
             "#d8576b"
            ],
            [
             0.6666666666666666,
             "#ed7953"
            ],
            [
             0.7777777777777778,
             "#fb9f3a"
            ],
            [
             0.8888888888888888,
             "#fdca26"
            ],
            [
             1,
             "#f0f921"
            ]
           ],
           "sequentialminus": [
            [
             0,
             "#0d0887"
            ],
            [
             0.1111111111111111,
             "#46039f"
            ],
            [
             0.2222222222222222,
             "#7201a8"
            ],
            [
             0.3333333333333333,
             "#9c179e"
            ],
            [
             0.4444444444444444,
             "#bd3786"
            ],
            [
             0.5555555555555556,
             "#d8576b"
            ],
            [
             0.6666666666666666,
             "#ed7953"
            ],
            [
             0.7777777777777778,
             "#fb9f3a"
            ],
            [
             0.8888888888888888,
             "#fdca26"
            ],
            [
             1,
             "#f0f921"
            ]
           ]
          },
          "colorway": [
           "#636efa",
           "#EF553B",
           "#00cc96",
           "#ab63fa",
           "#FFA15A",
           "#19d3f3",
           "#FF6692",
           "#B6E880",
           "#FF97FF",
           "#FECB52"
          ],
          "font": {
           "color": "#2a3f5f"
          },
          "geo": {
           "bgcolor": "white",
           "lakecolor": "white",
           "landcolor": "#E5ECF6",
           "showlakes": true,
           "showland": true,
           "subunitcolor": "white"
          },
          "hoverlabel": {
           "align": "left"
          },
          "hovermode": "closest",
          "mapbox": {
           "style": "light"
          },
          "paper_bgcolor": "white",
          "plot_bgcolor": "#E5ECF6",
          "polar": {
           "angularaxis": {
            "gridcolor": "white",
            "linecolor": "white",
            "ticks": ""
           },
           "bgcolor": "#E5ECF6",
           "radialaxis": {
            "gridcolor": "white",
            "linecolor": "white",
            "ticks": ""
           }
          },
          "scene": {
           "xaxis": {
            "backgroundcolor": "#E5ECF6",
            "gridcolor": "white",
            "gridwidth": 2,
            "linecolor": "white",
            "showbackground": true,
            "ticks": "",
            "zerolinecolor": "white"
           },
           "yaxis": {
            "backgroundcolor": "#E5ECF6",
            "gridcolor": "white",
            "gridwidth": 2,
            "linecolor": "white",
            "showbackground": true,
            "ticks": "",
            "zerolinecolor": "white"
           },
           "zaxis": {
            "backgroundcolor": "#E5ECF6",
            "gridcolor": "white",
            "gridwidth": 2,
            "linecolor": "white",
            "showbackground": true,
            "ticks": "",
            "zerolinecolor": "white"
           }
          },
          "shapedefaults": {
           "line": {
            "color": "#2a3f5f"
           }
          },
          "ternary": {
           "aaxis": {
            "gridcolor": "white",
            "linecolor": "white",
            "ticks": ""
           },
           "baxis": {
            "gridcolor": "white",
            "linecolor": "white",
            "ticks": ""
           },
           "bgcolor": "#E5ECF6",
           "caxis": {
            "gridcolor": "white",
            "linecolor": "white",
            "ticks": ""
           }
          },
          "title": {
           "x": 0.05
          },
          "xaxis": {
           "automargin": true,
           "gridcolor": "white",
           "linecolor": "white",
           "ticks": "",
           "title": {
            "standoff": 15
           },
           "zerolinecolor": "white",
           "zerolinewidth": 2
          },
          "yaxis": {
           "automargin": true,
           "gridcolor": "white",
           "linecolor": "white",
           "ticks": "",
           "title": {
            "standoff": 15
           },
           "zerolinecolor": "white",
           "zerolinewidth": 2
          }
         }
        },
        "title": {
         "text": "Genes Involved in SREBP control of lipid biosynthesis"
        },
        "xaxis": {
         "autorange": true,
         "range": [
          -0.5,
          4.5
         ],
         "title": {
          "text": "Viruses"
         },
         "type": "category"
        },
        "yaxis": {
         "autorange": true,
         "range": [
          -0.5,
          7.5
         ],
         "title": {
          "text": "Genes"
         },
         "type": "category"
        }
       }
      },
      "image/png": "[encoded data removed]",
      "text/html": [
       "<div>                            <div id=\"5076e872-9aec-4faf-8cf4-9978f66da85f\" class=\"plotly-graph-div\" style=\"height:525px; width:100%;\"></div>            <script type=\"text/javascript\">                require([\"plotly\"], function(Plotly) {                    window.PLOTLYENV=window.PLOTLYENV || {};                                    if (document.getElementById(\"5076e872-9aec-4faf-8cf4-9978f66da85f\")) {                    Plotly.newPlot(                        \"5076e872-9aec-4faf-8cf4-9978f66da85f\",                        [{\"colorbar\":{\"title\":{\"text\":\"Enrichment Score\"}},\"type\":\"heatmap\",\"x\":[\"HCoV NL_63\",\"HCoV 229E (Schneider)\",\"HCoV OC43 (Schneider)\",\"SARS_COV2_33C (Schneider)\",\"SARS_COV2_37C (Schneider)\"],\"y\":[\"HMGCS1\",\"LDLR\",\"LIMA1\",\"MBTPS1\",\"MBTPS2\",\"SCAP\",\"SREBF1\",\"SREBF2\"],\"z\":[[6.10526054158691,0.05958016744884402,12.454841744483357,18.36015024421233,8.11754496862964],[0.910930125632059,1.7426265066778452,2.825382088541256,12.179528090308063,11.80808878563667],[2.437031189546969,0.1012135705772959,1.347419861737835,0.4284011393912221,0.5065514377933852],[0.0017314981781481424,6.15125778292143,15.031049998661675,16.284138428982654,28.026466588654465],[0.18118620155370277,3.2260766889715855,11.312191135169147,12.41590518278471,21.635016888778534],[0.0002000200026670447,5.679870654609888,8.786577035586642,10.931492274040284,18.595010321856776],[0.48934140460232156,2.272832134844698,0.3207977261296576,0.6820489938939118,1.342162649759982],[0.15438737450389992,0.1809465026144214,4.766160872080217,7.6163816463905425,22.913951837443047]]}],                        {\"template\":{\"data\":{\"bar\":[{\"error_x\":{\"color\":\"#2a3f5f\"},\"error_y\":{\"color\":\"#2a3f5f\"},\"marker\":{\"line\":{\"color\":\"#E5ECF6\",\"width\":0.5},\"pattern\":{\"fillmode\":\"overlay\",\"size\":10,\"solidity\":0.2}},\"type\":\"bar\"}],\"barpolar\":[{\"marker\":{\"line\":{\"color\":\"#E5ECF6\",\"width\":0.5},\"pattern\":{\"fillmode\":\"overlay\",\"size\":10,\"solidity\":0.2}},\"type\":\"barpolar\"}],\"carpet\":[{\"aaxis\":{\"endlinecolor\":\"#2a3f5f\",\"gridcolor\":\"white\",\"linecolor\":\"white\",\"minorgridcolor\":\"white\",\"startlinecolor\":\"#2a3f5f\"},\"baxis\":{\"endlinecolor\":\"#2a3f5f\",\"gridcolor\":\"white\",\"linecolor\":\"white\",\"minorgridcolor\":\"white\",\"startlinecolor\":\"#2a3f5f\"},\"type\":\"carpet\"}],\"choropleth\":[{\"colorbar\":{\"outlinewidth\":0,\"ticks\":\"\"},\"type\":\"choropleth\"}],\"contour\":[{\"colorbar\":{\"outlinewidth\":0,\"ticks\":\"\"},\"colorscale\":[[0.0,\"#0d0887\"],[0.1111111111111111,\"#46039f\"],[0.2222222222222222,\"#7201a8\"],[0.3333333333333333,\"#9c179e\"],[0.4444444444444444,\"#bd3786\"],[0.5555555555555556,\"#d8576b\"],[0.6666666666666666,\"#ed7953\"],[0.7777777777777778,\"#fb9f3a\"],[0.8888888888888888,\"#fdca26\"],[1.0,\"#f0f921\"]],\"type\":\"contour\"}],\"contourcarpet\":[{\"colorbar\":{\"outlinewidth\":0,\"ticks\":\"\"},\"type\":\"contourcarpet\"}],\"heatmap\":[{\"colorbar\":{\"outlinewidth\":0,\"ticks\":\"\"},\"colorscale\":[[0.0,\"#0d0887\"],[0.1111111111111111,\"#46039f\"],[0.2222222222222222,\"#7201a8\"],[0.3333333333333333,\"#9c179e\"],[0.4444444444444444,\"#bd3786\"],[0.5555555555555556,\"#d8576b\"],[0.6666666666666666,\"#ed7953\"],[0.7777777777777778,\"#fb9f3a\"],[0.8888888888888888,\"#fdca26\"],[1.0,\"#f0f921\"]],\"type\":\"heatmap\"}],\"heatmapgl\":[{\"colorbar\":{\"outlinewidth\":0,\"ticks\":\"\"},\"colorscale\":[[0.0,\"#0d0887\"],[0.1111111111111111,\"#46039f\"],[0.2222222222222222,\"#7201a8\"],[0.3333333333333333,\"#9c179e\"],[0.4444444444444444,\"#bd3786\"],[0.5555555555555556,\"#d8576b\"],[0.6666666666666666,\"#ed7953\"],[0.7777777777777778,\"#fb9f3a\"],[0.8888888888888888,\"#fdca26\"],[1.0,\"#f0f921\"]],\"type\":\"heatmapgl\"}],\"histogram\":[{\"marker\":{\"pattern\":{\"fillmode\":\"overlay\",\"size\":10,\"solidity\":0.2}},\"type\":\"histogram\"}],\"histogram2d\":[{\"colorbar\":{\"outlinewidth\":0,\"ticks\":\"\"},\"colorscale\":[[0.0,\"#0d0887\"],[0.1111111111111111,\"#46039f\"],[0.2222222222222222,\"#7201a8\"],[0.3333333333333333,\"#9c179e\"],[0.4444444444444444,\"#bd3786\"],[0.5555555555555556,\"#d8576b\"],[0.6666666666666666,\"#ed7953\"],[0.7777777777777778,\"#fb9f3a\"],[0.8888888888888888,\"#fdca26\"],[1.0,\"#f0f921\"]],\"type\":\"histogram2d\"}],\"histogram2dcontour\":[{\"colorbar\":{\"outlinewidth\":0,\"ticks\":\"\"},\"colorscale\":[[0.0,\"#0d0887\"],[0.1111111111111111,\"#46039f\"],[0.2222222222222222,\"#7201a8\"],[0.3333333333333333,\"#9c179e\"],[0.4444444444444444,\"#bd3786\"],[0.5555555555555556,\"#d8576b\"],[0.6666666666666666,\"#ed7953\"],[0.7777777777777778,\"#fb9f3a\"],[0.8888888888888888,\"#fdca26\"],[1.0,\"#f0f921\"]],\"type\":\"histogram2dcontour\"}],\"mesh3d\":[{\"colorbar\":{\"outlinewidth\":0,\"ticks\":\"\"},\"type\":\"mesh3d\"}],\"parcoords\":[{\"line\":{\"colorbar\":{\"outlinewidth\":0,\"ticks\":\"\"}},\"type\":\"parcoords\"}],\"pie\":[{\"automargin\":true,\"type\":\"pie\"}],\"scatter\":[{\"marker\":{\"colorbar\":{\"outlinewidth\":0,\"ticks\":\"\"}},\"type\":\"scatter\"}],\"scatter3d\":[{\"line\":{\"colorbar\":{\"outlinewidth\":0,\"ticks\":\"\"}},\"marker\":{\"colorbar\":{\"outlinewidth\":0,\"ticks\":\"\"}},\"type\":\"scatter3d\"}],\"scattercarpet\":[{\"marker\":{\"colorbar\":{\"outlinewidth\":0,\"ticks\":\"\"}},\"type\":\"scattercarpet\"}],\"scattergeo\":[{\"marker\":{\"colorbar\":{\"outlinewidth\":0,\"ticks\":\"\"}},\"type\":\"scattergeo\"}],\"scattergl\":[{\"marker\":{\"colorbar\":{\"outlinewidth\":0,\"ticks\":\"\"}},\"type\":\"scattergl\"}],\"scattermapbox\":[{\"marker\":{\"colorbar\":{\"outlinewidth\":0,\"ticks\":\"\"}},\"type\":\"scattermapbox\"}],\"scatterpolar\":[{\"marker\":{\"colorbar\":{\"outlinewidth\":0,\"ticks\":\"\"}},\"type\":\"scatterpolar\"}],\"scatterpolargl\":[{\"marker\":{\"colorbar\":{\"outlinewidth\":0,\"ticks\":\"\"}},\"type\":\"scatterpolargl\"}],\"scatterternary\":[{\"marker\":{\"colorbar\":{\"outlinewidth\":0,\"ticks\":\"\"}},\"type\":\"scatterternary\"}],\"surface\":[{\"colorbar\":{\"outlinewidth\":0,\"ticks\":\"\"},\"colorscale\":[[0.0,\"#0d0887\"],[0.1111111111111111,\"#46039f\"],[0.2222222222222222,\"#7201a8\"],[0.3333333333333333,\"#9c179e\"],[0.4444444444444444,\"#bd3786\"],[0.5555555555555556,\"#d8576b\"],[0.6666666666666666,\"#ed7953\"],[0.7777777777777778,\"#fb9f3a\"],[0.8888888888888888,\"#fdca26\"],[1.0,\"#f0f921\"]],\"type\":\"surface\"}],\"table\":[{\"cells\":{\"fill\":{\"color\":\"#EBF0F8\"},\"line\":{\"color\":\"white\"}},\"header\":{\"fill\":{\"color\":\"#C8D4E3\"},\"line\":{\"color\":\"white\"}},\"type\":\"table\"}]},\"layout\":{\"annotationdefaults\":{\"arrowcolor\":\"#2a3f5f\",\"arrowhead\":0,\"arrowwidth\":1},\"autotypenumbers\":\"strict\",\"coloraxis\":{\"colorbar\":{\"outlinewidth\":0,\"ticks\":\"\"}},\"colorscale\":{\"diverging\":[[0,\"#8e0152\"],[0.1,\"#c51b7d\"],[0.2,\"#de77ae\"],[0.3,\"#f1b6da\"],[0.4,\"#fde0ef\"],[0.5,\"#f7f7f7\"],[0.6,\"#e6f5d0\"],[0.7,\"#b8e186\"],[0.8,\"#7fbc41\"],[0.9,\"#4d9221\"],[1,\"#276419\"]],\"sequential\":[[0.0,\"#0d0887\"],[0.1111111111111111,\"#46039f\"],[0.2222222222222222,\"#7201a8\"],[0.3333333333333333,\"#9c179e\"],[0.4444444444444444,\"#bd3786\"],[0.5555555555555556,\"#d8576b\"],[0.6666666666666666,\"#ed7953\"],[0.7777777777777778,\"#fb9f3a\"],[0.8888888888888888,\"#fdca26\"],[1.0,\"#f0f921\"]],\"sequentialminus\":[[0.0,\"#0d0887\"],[0.1111111111111111,\"#46039f\"],[0.2222222222222222,\"#7201a8\"],[0.3333333333333333,\"#9c179e\"],[0.4444444444444444,\"#bd3786\"],[0.5555555555555556,\"#d8576b\"],[0.6666666666666666,\"#ed7953\"],[0.7777777777777778,\"#fb9f3a\"],[0.8888888888888888,\"#fdca26\"],[1.0,\"#f0f921\"]]},\"colorway\":[\"#636efa\",\"#EF553B\",\"#00cc96\",\"#ab63fa\",\"#FFA15A\",\"#19d3f3\",\"#FF6692\",\"#B6E880\",\"#FF97FF\",\"#FECB52\"],\"font\":{\"color\":\"#2a3f5f\"},\"geo\":{\"bgcolor\":\"white\",\"lakecolor\":\"white\",\"landcolor\":\"#E5ECF6\",\"showlakes\":true,\"showland\":true,\"subunitcolor\":\"white\"},\"hoverlabel\":{\"align\":\"left\"},\"hovermode\":\"closest\",\"mapbox\":{\"style\":\"light\"},\"paper_bgcolor\":\"white\",\"plot_bgcolor\":\"#E5ECF6\",\"polar\":{\"angularaxis\":{\"gridcolor\":\"white\",\"linecolor\":\"white\",\"ticks\":\"\"},\"bgcolor\":\"#E5ECF6\",\"radialaxis\":{\"gridcolor\":\"white\",\"linecolor\":\"white\",\"ticks\":\"\"}},\"scene\":{\"xaxis\":{\"backgroundcolor\":\"#E5ECF6\",\"gridcolor\":\"white\",\"gridwidth\":2,\"linecolor\":\"white\",\"showbackground\":true,\"ticks\":\"\",\"zerolinecolor\":\"white\"},\"yaxis\":{\"backgroundcolor\":\"#E5ECF6\",\"gridcolor\":\"white\",\"gridwidth\":2,\"linecolor\":\"white\",\"showbackground\":true,\"ticks\":\"\",\"zerolinecolor\":\"white\"},\"zaxis\":{\"backgroundcolor\":\"#E5ECF6\",\"gridcolor\":\"white\",\"gridwidth\":2,\"linecolor\":\"white\",\"showbackground\":true,\"ticks\":\"\",\"zerolinecolor\":\"white\"}},\"shapedefaults\":{\"line\":{\"color\":\"#2a3f5f\"}},\"ternary\":{\"aaxis\":{\"gridcolor\":\"white\",\"linecolor\":\"white\",\"ticks\":\"\"},\"baxis\":{\"gridcolor\":\"white\",\"linecolor\":\"white\",\"ticks\":\"\"},\"bgcolor\":\"#E5ECF6\",\"caxis\":{\"gridcolor\":\"white\",\"linecolor\":\"white\",\"ticks\":\"\"}},\"title\":{\"x\":0.05},\"xaxis\":{\"automargin\":true,\"gridcolor\":\"white\",\"linecolor\":\"white\",\"ticks\":\"\",\"title\":{\"standoff\":15},\"zerolinecolor\":\"white\",\"zerolinewidth\":2},\"yaxis\":{\"automargin\":true,\"gridcolor\":\"white\",\"linecolor\":\"white\",\"ticks\":\"\",\"title\":{\"standoff\":15},\"zerolinecolor\":\"white\",\"zerolinewidth\":2}}},\"title\":{\"text\":\"Genes Involved in SREBP control of lipid biosynthesis\"},\"xaxis\":{\"title\":{\"text\":\"Viruses\"}},\"yaxis\":{\"title\":{\"text\":\"Genes\"}}},                        {\"responsive\": true}                    ).then(function(){\n",
       "                            \n",
       "var gd = document.getElementById('5076e872-9aec-4faf-8cf4-9978f66da85f');\n",
       "var x = new MutationObserver(function (mutations, observer) {{\n",
       "        var display = window.getComputedStyle(gd).display;\n",
       "        if (!display || display === 'none') {{\n",
       "            console.log([gd, 'removed!']);\n",
       "            Plotly.purge(gd);\n",
       "            observer.disconnect();\n",
       "        }}\n",
       "}});\n",
       "\n",
       "// Listen for the removal of the full notebook cells\n",
       "var notebookContainer = gd.closest('#notebook-container');\n",
       "if (notebookContainer) {{\n",
       "    x.observe(notebookContainer, {childList: true});\n",
       "}}\n",
       "\n",
       "// Listen for the clearing of the current output cell\n",
       "var outputEl = gd.closest('.output');\n",
       "if (outputEl) {{\n",
       "    x.observe(outputEl, {childList: true});\n",
       "}}\n",
       "\n",
       "                        })                };                });            </script>        </div>"
      ]
     },
     "metadata": {},
     "output_type": "display_data"
    }
   ],
   "source": [
    "def df_to_plotly(df):\n",
    "    return {'z': df.values.tolist(),\n",
    "            'x': df.columns.tolist(),\n",
    "            'y': df.index.tolist()}\n",
    "\n",
    "import plotly.graph_objects as go\n",
    "\n",
    "heatmap_data = df_to_plotly(sch_df)\n",
    "\n",
    "fig = go.Figure(data=go.Heatmap(heatmap_data, colorbar={\"title\": \"Enrichment Score\"}))\n",
    "\n",
    "fig.update_layout(\n",
    "    title = 'Genes Involved in SREBP control of lipid biosynthesis',\n",
    "    xaxis_title = 'Viruses',\n",
    "    yaxis_title = 'Genes')\n",
    "\n",
    "fig.show()"
   ]
  },
  {
   "cell_type": "markdown",
   "id": "18e107e6-7582-4593-8cf6-774dd823129c",
   "metadata": {},
   "source": [
    "Alternatives: Heatmap table?"
   ]
  },
  {
   "cell_type": "markdown",
   "id": "a0a49649-22ad-49dc-8a91-98a4c9bb7d21",
   "metadata": {},
   "source": [
    "### Part 3: Create a function to make heatmap for any genes\n",
    "\n",
    "QUESTIONS:\n",
    "1. How to select genes for heatmap?\n",
    "* // Average Enrichment scores across genes, and selected highest n genes? \n",
    "* // Standard dev? \n",
    "* Top_ES for one virus?\n",
    "\n",
    "* By type of pathway? => Compile genes for distinct pathways via lit review. Client select pathway.\n",
    "\n",
    "=> Ask Andreas for possible lists.\n",
    "\n",
    "=> High p-value + Significant FC"
   ]
  },
  {
   "cell_type": "code",
   "execution_count": null,
   "id": "a0eb3a24-54ba-4b32-801f-6ddf97c2c595",
   "metadata": {},
   "outputs": [],
   "source": [
    "def create_heatmap_df(ES_df, list_of_viruses, top_n):\n",
    "    \"\"\"\n",
    "    ARGS:\n",
    "    * ES_df: enrichment scores dataframe\n",
    "    * list_of_viruses: list of virus names from columns of ES_df that you want to compare. \n",
    "    \"\"\"\n",
    "\n",
    "    "
   ]
  },
  {
   "cell_type": "code",
   "execution_count": null,
   "id": "89517569-3f9a-494c-a681-544c17268098",
   "metadata": {},
   "outputs": [],
   "source": [
    "def plot_heatmap():\n",
    "    "
   ]
  }
 ],
 "metadata": {
  "kernelspec": {
   "display_name": "Python 3",
   "language": "python",
   "name": "python3"
  },
  "language_info": {
   "codemirror_mode": {
    "name": "ipython",
    "version": 3
   },
   "file_extension": ".py",
   "mimetype": "text/x-python",
   "name": "python",
   "nbconvert_exporter": "python",
   "pygments_lexer": "ipython3",
   "version": "3.9.1"
  }
 },
 "nbformat": 4,
 "nbformat_minor": 5
}
