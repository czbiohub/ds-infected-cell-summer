{
 "cells": [
  {
   "cell_type": "markdown",
   "id": "227ba32d-3ef2-4b74-b9cc-ac516b4d5395",
   "metadata": {},
   "source": [
    "# Daily stuff "
   ]
  },
  {
   "cell_type": "markdown",
   "id": "37fd85f4-75df-4b5f-91d4-36ea78595950",
   "metadata": {},
   "source": [
    "## Week 2\n",
    "\n",
    "### 062321 Wednesday\n",
    "* Made script to add columns to current data(‘virus’ and ‘author’)\n",
    "\n",
    "\n",
    "### 062421 Thursday\n",
    "* Attempted finding missing fast files from 3 papers (WNV, EBOV, SARS-COV2\n",
    "* Download fastq files by using commands like \"fetch\" and \"fastq-dump\" \n",
    "\n",
    "### 062521 Friday\n",
    "* Downloading HAV raw fastq files\n"
   ]
  },
  {
   "cell_type": "code",
   "execution_count": null,
   "id": "8e1dbac8-51e4-4ec7-8aa7-aad48c80e188",
   "metadata": {},
   "outputs": [],
   "source": [
    "# Unzips file\n",
    "gunzip test.fastq.gz\n",
    "\n",
    "# Creates count table using fastq file and library\n",
    "mageck count -l Human_GeCKOv2_Library_A_3_mageck.csv -n escneg --sample-label “HAV,control” --fastq ERR3802224.fastq  ERR3802225.fastq"
   ]
  },
  {
   "cell_type": "markdown",
   "id": "f120ba52-88e3-4500-b28e-ff4534952ed4",
   "metadata": {},
   "source": [
    "In progress: trying to install mageck but not working :/\n",
    "\n",
    "More information on Mageck count tool https://sourceforge.net/p/mageck/wiki/demo/#the-second-demo-starting-from-raw-fastq-files"
   ]
  },
  {
   "cell_type": "markdown",
   "id": "4efc1320-aeed-4d5d-bfaa-2ac0705ed069",
   "metadata": {},
   "source": [
    "## Week 3\n",
    "\n",
    "### June 28, 2021 Monday\n",
    "\n",
    "* Figured out how to log into biohub server and VPN"
   ]
  },
  {
   "cell_type": "code",
   "execution_count": null,
   "id": "8e8c817f-5bac-44de-91e3-a053baff98b9",
   "metadata": {},
   "outputs": [],
   "source": [
    "ssh jacklyn.luu@lrrr.czbiohub.org  \n",
    "# ssh jacklynn.luu@tesla.czbiohub.org \n",
    "# Password: Edison245#"
   ]
  },
  {
   "cell_type": "markdown",
   "id": "a2aa6e9f-5e42-42eb-81af-8ce67bbc4b80",
   "metadata": {},
   "source": [
    "* Save files on \"/mnt/ibm_lg/jacklynn.luu\" path\n",
    "* Meeting with Angela, Joan, Olga\n",
    "* Use https://sra-explorer.info/# to find number and download link of any paper (SRA, ENA, etc)"
   ]
  },
  {
   "cell_type": "markdown",
   "id": "51fcb754-c374-42a5-bfb6-bcdc4b8d574d",
   "metadata": {},
   "source": [
    "### June 29, 2021 Tuesday"
   ]
  },
  {
   "cell_type": "code",
   "execution_count": null,
   "id": "31e37a39-d7a2-43f8-877a-c0d9694efb45",
   "metadata": {},
   "outputs": [],
   "source": [
    "# Moving files from my Desktop to remote server \n",
    "# Type in terminal \n",
    "scp -r /Users/jacklyn.luu/Desktop/HAV jacklyn.luu@tesla.czbiohub.org:/mnt/ibm_lg/jacklyn.luu/fastqs\n",
    "    \n",
    "# Remove -r flag if just a file"
   ]
  },
  {
   "cell_type": "code",
   "execution_count": null,
   "id": "6494bc49-05f6-440e-830d-149f9d6a1020",
   "metadata": {},
   "outputs": [],
   "source": [
    "# Download files from internet\n",
    "# This file links to fastq data from HAV paper\n",
    "wget ftp://ftp.ebi.ac.uk/vol1/fastq/ERR380/005/ERR3802225/ERR3802225.fastq.gz\n",
    "wget ftp://ftp.ebi.ac.uk/vol1/fastq/ERR380/004/ERR3802224/ERR3802224.fastq.gz\n",
    "    \n",
    "# Wang paper => saved onto server \"/mnt/ibm_lg/jacklyn.luu/fastqs/Wang\"\n",
    "\n",
    "wget ftp://ftp.ebi.ac.uk/vol1/fastq/ERR465/003/ERR4659253/ERR4659253.fastq.gz\n",
    "wget ftp://ftp.ebi.ac.uk/vol1/fastq/ERR465/001/ERR4659251/ERR4659251.fastq.gz\n",
    "wget ftp://ftp.ebi.ac.uk/vol1/fastq/ERR465/005/ERR4659255/ERR4659255.fastq.gz\n",
    "wget ftp://ftp.ebi.ac.uk/vol1/fastq/ERR465/004/ERR4659254/ERR4659254.fastq.gz\n",
    "wget ftp://ftp.ebi.ac.uk/vol1/fastq/ERR465/006/ERR4659256/ERR4659256.fastq.gz\n",
    "wget ftp://ftp.ebi.ac.uk/vol1/fastq/ERR465/002/ERR4659252/ERR4659252.fastq.gz\n",
    "wget ftp://ftp.ebi.ac.uk/vol1/fastq/ERR465/007/ERR4659257/ERR4659257.fastq.gz\n",
    "wget ftp://ftp.ebi.ac.uk/vol1/fastq/ERR465/001/ERR4659261/ERR4659261.fastq.gz\n",
    "wget ftp://ftp.ebi.ac.uk/vol1/fastq/ERR465/008/ERR4659258/ERR4659258.fastq.gz\n",
    "wget ftp://ftp.ebi.ac.uk/vol1/fastq/ERR465/009/ERR4659259/ERR4659259.fastq.gz\n",
    "wget ftp://ftp.ebi.ac.uk/vol1/fastq/ERR465/002/ERR4659262/ERR4659262.fastq.gz\n",
    "wget ftp://ftp.ebi.ac.uk/vol1/fastq/ERR465/000/ERR4659260/ERR4659260.fastq.gz\n",
    "wget ftp://ftp.ebi.ac.uk/vol1/fastq/ERR465/004/ERR4659264/ERR4659264.fastq.gz\n",
    "wget ftp://ftp.ebi.ac.uk/vol1/fastq/ERR465/003/ERR4659263/ERR4659263.fastq.gz\n",
    "\n"
   ]
  },
  {
   "cell_type": "markdown",
   "id": "8ff3ef6f-ed9a-422a-a1aa-0fc3a8500d28",
   "metadata": {},
   "source": [
    "* Olga sent this nice tool that gets fastq data from list of SRA numbers\n",
    "\n",
    "https://github.com/nf-core/fetchngs\n",
    "Question: How to use nextflow/nf-core on server? I noticed that it's been previously downloaded, but how can I add a path so that I can use it without having to repeat the path? Do I have my own ~/.bash_profile in the server to do this ?\n",
    "\n",
    "* Read good overview of how CRISPR screens work (https://docs.elucidata.io/Apps/Screening%20Data/CRISPR%20Screening.html)\n"
   ]
  },
  {
   "cell_type": "markdown",
   "id": "97d677ec-d0cb-46d5-b573-2004064bece9",
   "metadata": {},
   "source": [
    "### June 30, 2021 Wednesday\n",
    "\n",
    "* Downloading Marceau paper under /mnt/ibm_lg/jacklyn.luu/fastqs/Marceau\n",
    "* Emailing authors for their data: Scott Beiring (sbiering@berkeley.edu), Mike Flint (vfa3@cdc.gov), Rong Zhang (rong.zhang@utsouthwestern.edu)"
   ]
  },
  {
   "cell_type": "code",
   "execution_count": null,
   "id": "9a5f0edc-f663-4dd6-9294-d0b2b0ebdcec",
   "metadata": {},
   "outputs": [],
   "source": [
    "# Marceau paper\n",
    "wget ftp://ftp.ebi.ac.uk/vol1/fastq/SRR354/008/SRR3546788/SRR3546788.fastq.gz\n",
    "wget ftp://ftp.ebi.ac.uk/vol1/fastq/SRR354/009/SRR3546789/SRR3546789.fastq.gz\n",
    "wget ftp://ftp.ebi.ac.uk/vol1/fastq/SRR354/003/SRR3546793/SRR3546793.fastq.gz\n",
    "wget ftp://ftp.ebi.ac.uk/vol1/fastq/SRR354/000/SRR3546790/SRR3546790.fastq.gz\n",
    "wget ftp://ftp.ebi.ac.uk/vol1/fastq/SRR354/001/SRR3546791/SRR3546791.fastq.gz\n",
    "wget ftp://ftp.ebi.ac.uk/vol1/fastq/SRR354/002/SRR3546792/SRR3546792.fastq.gz\n",
    "wget ftp://ftp.ebi.ac.uk/vol1/fastq/SRR354/006/SRR3546796/SRR3546796.fastq.gz\n",
    "wget ftp://ftp.ebi.ac.uk/vol1/fastq/SRR354/004/SRR3546794/SRR3546794.fastq.gz\n",
    "wget ftp://ftp.ebi.ac.uk/vol1/fastq/SRR354/005/SRR3546795/SRR3546795.fastq.gz\n",
    "wget ftp://ftp.ebi.ac.uk/vol1/fastq/SRR354/009/SRR3546799/SRR3546799.fastq.gz\n",
    "wget ftp://ftp.ebi.ac.uk/vol1/fastq/SRR354/008/SRR3546798/SRR3546798.fastq.gz\n",
    "wget ftp://ftp.ebi.ac.uk/vol1/fastq/SRR354/007/SRR3546797/SRR3546797.fastq.gz\n",
    "wget ftp://ftp.ebi.ac.uk/vol1/fastq/SRR354/000/SRR3546800/SRR3546800.fastq.gz\n",
    "wget ftp://ftp.ebi.ac.uk/vol1/fastq/SRR354/001/SRR3546801/SRR3546801.fastq.gz"
   ]
  },
  {
   "cell_type": "markdown",
   "id": "0662bfe2-920b-4613-8955-956cacdd6399",
   "metadata": {},
   "source": [
    "### July 1, 2021 Thursday\n",
    "\n",
    "* Renamed files for Olga's pipeline\n",
    "* Added count table from Schneider paper (has SARS CoV2, HCoV 229E, HCoV OC 43, HCoV NL-63)\n"
   ]
  },
  {
   "cell_type": "code",
   "execution_count": null,
   "id": "65a111a7-be13-49ea-8daa-6b3b793f96f7",
   "metadata": {},
   "outputs": [],
   "source": [
    "# Move all files from one directory to another\n",
    "cd /path/to/folderA\n",
    "mv folderB/* .\n",
    "mv folderB/.* . #gets all hidden files as well\n",
    "rmdir folderB\n",
    "\n",
    "# Rename a file \n",
    "mv oldname.txt newname.txt"
   ]
  },
  {
   "cell_type": "markdown",
   "id": "bade9d18-0de9-486d-826a-e78661bafcbf",
   "metadata": {},
   "source": [
    "Meeting with Joan and Angela\n",
    "\n",
    "* MaGeck Flute: https://bioconductor.org/packages/release/bioc/html/MAGeCKFlute.html\n",
    "\n",
    "* Know how the pipeline runs\n",
    "* Jupyter notebook run it in server\n",
    "* Install anaconda \n",
    "* Copy token into browser: Replace number into leela.czbiohub.org:4NUMBERS"
   ]
  },
  {
   "cell_type": "markdown",
   "id": "2b331cce",
   "metadata": {},
   "source": [
    "### July 2, 2021 Friday\n",
    "\n",
    "Meeting with Olga + Elianna\n",
    "\n",
    "A lot of meeting notes with https://docs.google.com/document/d/1KB_Odi_U7u0pphwIYMEeef81koqh2qgxMTTueIkBS_g/edit#\n",
    "\n",
    "\n",
    "\n",
    "\n",
    "\n"
   ]
  },
  {
   "cell_type": "markdown",
   "id": "37058cf8",
   "metadata": {},
   "source": [
    "# Week 4\n",
    "\n",
    "### July 7, 2021 Wednesday\n",
    "\n",
    "- Figured out pipeline installation\n",
    "- Trying to figure out how to do a for loop in linux\n",
    "- Meeting with Angela and Elianna\n"
   ]
  },
  {
   "cell_type": "code",
   "execution_count": null,
   "id": "28d4769a",
   "metadata": {},
   "outputs": [],
   "source": [
    "#!pip install pandas \n",
    "import pandas as pd"
   ]
  },
  {
   "cell_type": "code",
   "execution_count": null,
   "id": "bed917a5-3d61-40e4-9bcf-3d8e2496affa",
   "metadata": {},
   "outputs": [],
   "source": [
    "path_HAV_treatment_A = '/mnt/ibm_lg/jacklyn.luu/output/count/HAV_GeCKO2A.count.txt'\n",
    "path_HAV_treatment_B = '/mnt/ibm_lg/jacklyn.luu/output/count/HAV_GeCKO2B.count.txt'\n",
    "\n",
    "HAV_treatment_A = pd.read_csv(path_HAV_treatment_A, delimiter = \"\\t\")\n",
    "HAV_treatment_B = pd.read_csv(path_HAV_treatment_B, delimiter = \"\\t\")\n",
    "\n",
    "HAV_treatment = pd.concat([HAV_treatment_A, HAV_treatment_B])\n",
    "\n",
    "HAV_treatment['GeCKO2_combined'] = HAV_treatment.fillna(0)[\"HAV_GeCKO2A\"] + HAV_treatment.fillna(0)[\"HAV_GeCKO2B\"]\n",
    "HAV_treatment.loc[HAV_treatment['GeCKO2_combined'] >= 20000]"
   ]
  },
  {
   "cell_type": "markdown",
   "id": "9ec4a118-c735-489f-a086-44c1e66d0cc1",
   "metadata": {},
   "source": [
    "\n",
    "# Week 5\n",
    "## Monday July 12\n",
    "\n",
    "Compare pipeline output to output of Andreas' papers => found in reproduce_papers_analysis.ipynb\n",
    "=> Issue: guides are not concatenated. Misunderstanding what is needed in mageck rra analysis\n"
   ]
  },
  {
   "cell_type": "markdown",
   "id": "64a29902-60b9-4117-bc48-d63516e07fe1",
   "metadata": {},
   "source": [
    "### Meeting with Andreas \n",
    "\n",
    "* Each library contains 3 out of 6 guides for all the genes. \n",
    "1. Given fastq file with guide rna reads \n",
    "2. Count how often the guide RNA appears in the treatments/controls samples\n",
    "3. Merge count tables with all 6 guides\n",
    "4. Average performance of all 6 guides \n",
    "\n",
    "Look at what normalization method nextflow does\n",
    "Andreas => A + normalize A. B + normalize B\n",
    "total control\n",
    "total virus sample\n",
    "normalized count = control1/total_control\n",
    "Log fold change = divide nomalized virus/normalized_control\n"
   ]
  },
  {
   "cell_type": "markdown",
   "id": "f32c7223-4ec9-41c2-9d9f-8658dcdeb81a",
   "metadata": {},
   "source": [
    "## Tuesday July 13\n",
    "\n",
    "Based on meeting with Andreas, we should best combine A and B fastqs files since they are single ended reads. \n",
    "Afterwards, re-run counttable pipeline\n"
   ]
  },
  {
   "cell_type": "code",
   "execution_count": null,
   "id": "1e64cd35-a2b7-4593-b694-109d4d7cc359",
   "metadata": {},
   "outputs": [],
   "source": [
    "# Concatenate 2 fastq files\n",
    "\n",
    "fastq_dir = '/mnt/ibm_lg/jacklyn.luu/fastqs/fastqs_separate'\n",
    "\n",
    "#Example !cat file1a.fastq.gz file1B.fastq.gz > file1_combined.fastq.gz\n",
    "cat Wang_SARS-CoV2_library_A/Wang_SARS-CoV2_A_2_control.fastq.gz Wang_SARS-CoV2_library_B/Wang_SARS-CoV2_B_2_control.fastq.gz > ../fastqs_combined/Wang_SARS-CoV2/Wang_SARS-CoV2_AB_2_control.fastq.gz\n",
    "\n",
    "cat Wang_OC43_library_A/Wang_OC43_A_1_control.fastq.gz Wang_OC43_library_B/Wang_OC43_B_1_control.fastq.gz > ../Wang_OC43/Wang_OC43_AB_1_control.fastq.gz\n",
    "\n",
    "cat RV_library_A/RV_A_control.fastq.gz RV_library_B/RV_B_control.fastq.gz > ../RV/RV_AB_control.fastq.gz \n",
    "cat RV_library_A/RV_A_treatment.fastq.gz RV_library_B/RV_B_treatment.fastq.gz > ../RV/RV_AB_treatment.fastq.gz "
   ]
  },
  {
   "cell_type": "markdown",
   "id": "9d124db0-6eff-4718-8122-5ff51befcb9e",
   "metadata": {},
   "source": [
    "## Wednesday July 14 - Friday July 16\n",
    "Sanity check => check python notebook called \"nf_pipeline_sanity_check\"\n"
   ]
  },
  {
   "cell_type": "markdown",
   "id": "e25a04a9-12f6-4595-8f04-44d5d03aa706",
   "metadata": {},
   "source": [
    "## Week 6\n",
    "\n",
    "The following analysis is found in jupyter notebook called \"create_scatterplot.ipynb\"\n",
    "* Trying to find different ways to compare between 2 libraries \n",
    "https://www.nature.com/articles/s41467-018-07901-8\n",
    "\n",
    "\"Brunello library comprises 77,441 sgRNAs, which includes an\n",
    "average of 4 sgRNAs per gene and 1,000 non-targeting control sgRNAs\" \n",
    "\n",
    "* https://www.ncbi.nlm.nih.gov/pmc/articles/PMC8168385/ => Comparing different crispr screens of Sars COV2\n",
    "\n",
    "* Taking schnieder paper count tables into Mageck RRA\n",
    "\n",
    "Reference for mageck test command: https://sourceforge.net/p/mageck/wiki/usage/\n",
    "\n",
    "* Creating Venn Diagram pipeline => go to create_venn_diagram"
   ]
  },
  {
   "cell_type": "markdown",
   "id": "0aa8302d-fe7a-43ce-9c8e-e1a972134827",
   "metadata": {},
   "source": [
    "## Week 7\n",
    "How to use node\n",
    "\n",
    "nvm use 12.18.1"
   ]
  },
  {
   "cell_type": "code",
   "execution_count": null,
   "id": "e32946a2-a153-4e7e-909d-fed255589f48",
   "metadata": {},
   "outputs": [],
   "source": []
  }
 ],
 "metadata": {
  "kernelspec": {
   "display_name": "Python 3",
   "language": "python",
   "name": "python3"
  },
  "language_info": {
   "codemirror_mode": {
    "name": "ipython",
    "version": 3
   },
   "file_extension": ".py",
   "mimetype": "text/x-python",
   "name": "python",
   "nbconvert_exporter": "python",
   "pygments_lexer": "ipython3",
   "version": "3.9.1"
  }
 },
 "nbformat": 4,
 "nbformat_minor": 5
}
